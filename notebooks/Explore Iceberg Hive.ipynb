{
 "cells": [
  {
   "cell_type": "code",
   "execution_count": null,
   "metadata": {
    "pycharm": {
     "name": "#%%\n"
    }
   },
   "outputs": [],
   "source": [
    "# Display metadata\n",
    "import os\n",
    "import glob\n",
    "import pandas as pd\n",
    "from pyspark.sql import functions as F\n",
    "from pyspark.sql.types import StringType\n",
    "\n",
    "pd.set_option('display.max_colwidth', None)\n",
    "non_partitioned_table_path = '/home/hive/warehouse/transformed.db/iceberg_demo'\n",
    "partitioned_table_path = '/home/hive/warehouse/transformed.db/iceberg_partitioned_demo'\n",
    "\n",
    "\n",
    "catalog_name = \"iceberg_catalog\"\n",
    "database_name = \"transformed\"\n",
    "table_name = \"iceberg_demo\"\n",
    "table_name_partitioned = \"iceberg_partitioned_demo\"\n",
    "\n",
    "def display_metadata(demo_tbl_df, table_path):\n",
    "\n",
    "    \n",
    "    metadata_files_path = os.path.join(table_path, 'metadata/*.json')\n",
    "    meta_data_files = sorted(glob.iglob(metadata_files_path), key=os.path.getctime, reverse=True)\n",
    "\n",
    "    data_files_path = os.path.join(table_path, 'data/*')\n",
    "    data_files = sorted(glob.iglob(data_files_path), key=os.path.getctime, reverse=True)\n",
    "\n",
    "    print(\"---------------- Data Files List -----------------------\")\n",
    "    data_files_df = spark.createDataFrame(data_files, StringType(), )\n",
    "    display(data_files_df.toPandas())\n",
    "\n",
    "    print(\"---------------- Meta Data Files List -----------------------\")\n",
    "    metadata_files_df = spark.createDataFrame(meta_data_files, StringType())\n",
    "    display(metadata_files_df.toPandas())\n",
    "\n",
    "    print(\"---------------- Meta Data Json -----------------------\")\n",
    "    latest_metadata_file = meta_data_files[0]\n",
    "    metadata_df = spark.read.format(\"json\").option(\"multiLine\", True).load(latest_metadata_file).select(\n",
    "        F.col(\"current-schema-id\"),\n",
    "        F.col(\"current-snapshot-id\"),\n",
    "        F.col(\"current-schema-id\"),\n",
    "        F.col(\"partition-spec\"),\n",
    "        F.col(\"schemas\"),\n",
    "        F.explode(F.col(\"snapshots\")).alias(\"snapshot\")\n",
    "    ).select(\n",
    "        F.col(\"current-schema-id\"),\n",
    "        F.col(\"current-snapshot-id\"),\n",
    "        F.col(\"current-schema-id\"),\n",
    "        F.col(\"partition-spec\"),\n",
    "        F.col(\"snapshot.snapshot-id\"),\n",
    "        F.col(\"snapshot.manifest-list\"),\n",
    "        F.explode(F.col(\"schemas\")).alias(\"schema\")\n",
    "    ).select(\n",
    "        F.col(\"current-snapshot-id\"),\n",
    "        F.col(\"snapshot-id\"),\n",
    "        F.col(\"partition-spec\"),\n",
    "        F.col(\"current-schema-id\"),\n",
    "        F.col(\"schema.schema-id\"),\n",
    "        F.col(\"schema.fields\").alias(\"schema\"),\n",
    "        F.col(\"manifest-list\")\n",
    "    ).filter(F.col(\"current-schema-id\") == F.col(\"schema-id\")).filter(F.col(\"current-snapshot-id\") == F.col(\"snapshot-id\"))\n",
    "    #metadata_df.printSchema()\n",
    "    display(metadata_df.toPandas())\n",
    "\n",
    "    print(\"---------------- Manifest List Avro -----------------------\")\n",
    "    manifest_list_files = list(metadata_df.select(F.col(\"manifest-list\")).toPandas()['manifest-list'])\n",
    "    print(manifest_list_files)\n",
    "    manifest_list_df = spark.read.format(\"avro\").load(manifest_list_files).select(\n",
    "        F.col(\"added_snapshot_id\"),\n",
    "        F.col(\"added_data_files_count\"),\n",
    "        F.col(\"existing_data_files_count\"),\n",
    "        F.col(\"deleted_data_files_count\"),\n",
    "        F.col(\"added_rows_count\"),\n",
    "        F.col(\"deleted_rows_count\"),\n",
    "        F.col(\"manifest_path\")\n",
    "    )\n",
    "    display(manifest_list_df.toPandas())\n",
    "\n",
    "    print(\"---------------- Manifest Avro -----------------------\")\n",
    "    manifest_files = list(manifest_list_df.select(F.col(\"manifest_path\")).toPandas()['manifest_path'])\n",
    "    print(manifest_list_files)\n",
    "    manifest_df = spark.read.format(\"avro\").load(manifest_files).select(\n",
    "        F.col(\"*\")\n",
    "    )\n",
    "    display(manifest_df.toPandas())\n",
    "\n",
    "\n"
   ]
  },
  {
   "cell_type": "code",
   "execution_count": null,
   "metadata": {
    "pycharm": {
     "name": "#%%\n"
    }
   },
   "outputs": [],
   "source": [
    "display(spark.sql(\"show catalogs\").toPandas())\n",
    "spark.sql(\"CREATE DATABASE transformed\")\n",
    "display(spark.sql(\"show databases in iceberg_catalog\").toPandas())"
   ]
  },
  {
   "cell_type": "code",
   "execution_count": 20,
   "metadata": {
    "pycharm": {
     "name": "#%%\n"
    }
   },
   "outputs": [
    {
     "name": "stdout",
     "output_type": "stream",
     "text": [
      "Table created.\n"
     ]
    }
   ],
   "source": [
    "# Create Demo Iceberg Table\n",
    "fact_sales_df = spark.read.format(\"parquet\").load(\"/home/datalake/transformed.fact_sales.parquet/\")\n",
    "fact_sales_df.count()\n",
    "spark.sql(f\"DROP TABLE IF EXISTS {catalog_name}.{database_name}.{table_name}\")\n",
    "os.system(f\"rm -rf {non_partitioned_table_path}\")\n",
    "\n",
    "fact_sales_df.writeTo(f\"{catalog_name}.{database_name}.{table_name}\").create()\n",
    "print(\"Table created.\")"
   ]
  },
  {
   "cell_type": "code",
   "execution_count": 21,
   "metadata": {
    "pycharm": {
     "name": "#%%\n"
    }
   },
   "outputs": [
    {
     "name": "stdout",
     "output_type": "stream",
     "text": [
      "---------------- Data Files List -----------------------\n"
     ]
    },
    {
     "data": {
      "text/html": [
       "<div>\n",
       "<style scoped>\n",
       "    .dataframe tbody tr th:only-of-type {\n",
       "        vertical-align: middle;\n",
       "    }\n",
       "\n",
       "    .dataframe tbody tr th {\n",
       "        vertical-align: top;\n",
       "    }\n",
       "\n",
       "    .dataframe thead th {\n",
       "        text-align: right;\n",
       "    }\n",
       "</style>\n",
       "<table border=\"1\" class=\"dataframe\">\n",
       "  <thead>\n",
       "    <tr style=\"text-align: right;\">\n",
       "      <th></th>\n",
       "      <th>value</th>\n",
       "    </tr>\n",
       "  </thead>\n",
       "  <tbody>\n",
       "    <tr>\n",
       "      <th>0</th>\n",
       "      <td>/home/hive/warehouse/transformed.db/iceberg_demo/data/00002-780-fa2b74af-f62a-4407-a0ce-1a650046fd04-00001.parquet</td>\n",
       "    </tr>\n",
       "    <tr>\n",
       "      <th>1</th>\n",
       "      <td>/home/hive/warehouse/transformed.db/iceberg_demo/data/00001-779-eb3b6e8b-516b-42d6-997a-e6c5b4c78c38-00001.parquet</td>\n",
       "    </tr>\n",
       "    <tr>\n",
       "      <th>2</th>\n",
       "      <td>/home/hive/warehouse/transformed.db/iceberg_demo/data/00000-778-dd77f2b0-d6d9-4db5-8629-f938ee4f64f4-00001.parquet</td>\n",
       "    </tr>\n",
       "  </tbody>\n",
       "</table>\n",
       "</div>"
      ],
      "text/plain": [
       "                                                                                                                value\n",
       "0  /home/hive/warehouse/transformed.db/iceberg_demo/data/00002-780-fa2b74af-f62a-4407-a0ce-1a650046fd04-00001.parquet\n",
       "1  /home/hive/warehouse/transformed.db/iceberg_demo/data/00001-779-eb3b6e8b-516b-42d6-997a-e6c5b4c78c38-00001.parquet\n",
       "2  /home/hive/warehouse/transformed.db/iceberg_demo/data/00000-778-dd77f2b0-d6d9-4db5-8629-f938ee4f64f4-00001.parquet"
      ]
     },
     "metadata": {},
     "output_type": "display_data"
    },
    {
     "name": "stdout",
     "output_type": "stream",
     "text": [
      "---------------- Meta Data Files List -----------------------\n"
     ]
    },
    {
     "data": {
      "text/html": [
       "<div>\n",
       "<style scoped>\n",
       "    .dataframe tbody tr th:only-of-type {\n",
       "        vertical-align: middle;\n",
       "    }\n",
       "\n",
       "    .dataframe tbody tr th {\n",
       "        vertical-align: top;\n",
       "    }\n",
       "\n",
       "    .dataframe thead th {\n",
       "        text-align: right;\n",
       "    }\n",
       "</style>\n",
       "<table border=\"1\" class=\"dataframe\">\n",
       "  <thead>\n",
       "    <tr style=\"text-align: right;\">\n",
       "      <th></th>\n",
       "      <th>value</th>\n",
       "    </tr>\n",
       "  </thead>\n",
       "  <tbody>\n",
       "    <tr>\n",
       "      <th>0</th>\n",
       "      <td>/home/hive/warehouse/transformed.db/iceberg_demo/metadata/00000-966bdb9c-58de-4be7-b966-a371f28713cf.metadata.json</td>\n",
       "    </tr>\n",
       "  </tbody>\n",
       "</table>\n",
       "</div>"
      ],
      "text/plain": [
       "                                                                                                                value\n",
       "0  /home/hive/warehouse/transformed.db/iceberg_demo/metadata/00000-966bdb9c-58de-4be7-b966-a371f28713cf.metadata.json"
      ]
     },
     "metadata": {},
     "output_type": "display_data"
    },
    {
     "name": "stdout",
     "output_type": "stream",
     "text": [
      "---------------- Meta Data Json -----------------------\n"
     ]
    },
    {
     "data": {
      "text/html": [
       "<div>\n",
       "<style scoped>\n",
       "    .dataframe tbody tr th:only-of-type {\n",
       "        vertical-align: middle;\n",
       "    }\n",
       "\n",
       "    .dataframe tbody tr th {\n",
       "        vertical-align: top;\n",
       "    }\n",
       "\n",
       "    .dataframe thead th {\n",
       "        text-align: right;\n",
       "    }\n",
       "</style>\n",
       "<table border=\"1\" class=\"dataframe\">\n",
       "  <thead>\n",
       "    <tr style=\"text-align: right;\">\n",
       "      <th></th>\n",
       "      <th>current-snapshot-id</th>\n",
       "      <th>snapshot-id</th>\n",
       "      <th>partition-spec</th>\n",
       "      <th>current-schema-id</th>\n",
       "      <th>schema-id</th>\n",
       "      <th>schema</th>\n",
       "      <th>manifest-list</th>\n",
       "    </tr>\n",
       "  </thead>\n",
       "  <tbody>\n",
       "    <tr>\n",
       "      <th>0</th>\n",
       "      <td>3345030398619684425</td>\n",
       "      <td>3345030398619684425</td>\n",
       "      <td>[]</td>\n",
       "      <td>0</td>\n",
       "      <td>0</td>\n",
       "      <td>[(1, order_date, False, timestamptz), (2, shipping_country, False, string), (3, order_item_id, False, int), (4, quantity, False, int), (5, unit_price, False, decimal(18, 2)), (6, subtotal, False, decimal(29, 2)), (7, ctrl_load_date, False, timestamptz), (8, ctrl_row_hash, False, string), (9, product_hash_key, False, string), (10, order_hash_key, False, string), (11, seller_hash_key, False, string), (12, supplier_hash_key, False, string)]</td>\n",
       "      <td>file:/home/hive/warehouse/transformed.db/iceberg_demo/metadata/snap-3345030398619684425-1-543eeb05-c78d-4ab4-a392-2a49520419d8.avro</td>\n",
       "    </tr>\n",
       "  </tbody>\n",
       "</table>\n",
       "</div>"
      ],
      "text/plain": [
       "   current-snapshot-id          snapshot-id partition-spec  current-schema-id  \\\n",
       "0  3345030398619684425  3345030398619684425             []                  0   \n",
       "\n",
       "   schema-id  \\\n",
       "0          0   \n",
       "\n",
       "                                                                                                                                                                                                                                                                                                                                                                                                                                                      schema  \\\n",
       "0  [(1, order_date, False, timestamptz), (2, shipping_country, False, string), (3, order_item_id, False, int), (4, quantity, False, int), (5, unit_price, False, decimal(18, 2)), (6, subtotal, False, decimal(29, 2)), (7, ctrl_load_date, False, timestamptz), (8, ctrl_row_hash, False, string), (9, product_hash_key, False, string), (10, order_hash_key, False, string), (11, seller_hash_key, False, string), (12, supplier_hash_key, False, string)]   \n",
       "\n",
       "                                                                                                                         manifest-list  \n",
       "0  file:/home/hive/warehouse/transformed.db/iceberg_demo/metadata/snap-3345030398619684425-1-543eeb05-c78d-4ab4-a392-2a49520419d8.avro  "
      ]
     },
     "metadata": {},
     "output_type": "display_data"
    },
    {
     "name": "stdout",
     "output_type": "stream",
     "text": [
      "---------------- Manifest List Avro -----------------------\n",
      "['file:/home/hive/warehouse/transformed.db/iceberg_demo/metadata/snap-3345030398619684425-1-543eeb05-c78d-4ab4-a392-2a49520419d8.avro']\n"
     ]
    },
    {
     "data": {
      "text/html": [
       "<div>\n",
       "<style scoped>\n",
       "    .dataframe tbody tr th:only-of-type {\n",
       "        vertical-align: middle;\n",
       "    }\n",
       "\n",
       "    .dataframe tbody tr th {\n",
       "        vertical-align: top;\n",
       "    }\n",
       "\n",
       "    .dataframe thead th {\n",
       "        text-align: right;\n",
       "    }\n",
       "</style>\n",
       "<table border=\"1\" class=\"dataframe\">\n",
       "  <thead>\n",
       "    <tr style=\"text-align: right;\">\n",
       "      <th></th>\n",
       "      <th>added_snapshot_id</th>\n",
       "      <th>added_data_files_count</th>\n",
       "      <th>existing_data_files_count</th>\n",
       "      <th>deleted_data_files_count</th>\n",
       "      <th>added_rows_count</th>\n",
       "      <th>deleted_rows_count</th>\n",
       "      <th>manifest_path</th>\n",
       "    </tr>\n",
       "  </thead>\n",
       "  <tbody>\n",
       "    <tr>\n",
       "      <th>0</th>\n",
       "      <td>3345030398619684425</td>\n",
       "      <td>3</td>\n",
       "      <td>0</td>\n",
       "      <td>0</td>\n",
       "      <td>955</td>\n",
       "      <td>0</td>\n",
       "      <td>file:/home/hive/warehouse/transformed.db/iceberg_demo/metadata/543eeb05-c78d-4ab4-a392-2a49520419d8-m0.avro</td>\n",
       "    </tr>\n",
       "  </tbody>\n",
       "</table>\n",
       "</div>"
      ],
      "text/plain": [
       "     added_snapshot_id  added_data_files_count  existing_data_files_count  \\\n",
       "0  3345030398619684425                       3                          0   \n",
       "\n",
       "   deleted_data_files_count  added_rows_count  deleted_rows_count  \\\n",
       "0                         0               955                   0   \n",
       "\n",
       "                                                                                                 manifest_path  \n",
       "0  file:/home/hive/warehouse/transformed.db/iceberg_demo/metadata/543eeb05-c78d-4ab4-a392-2a49520419d8-m0.avro  "
      ]
     },
     "metadata": {},
     "output_type": "display_data"
    },
    {
     "name": "stdout",
     "output_type": "stream",
     "text": [
      "---------------- Manifest Avro -----------------------\n",
      "['file:/home/hive/warehouse/transformed.db/iceberg_demo/metadata/snap-3345030398619684425-1-543eeb05-c78d-4ab4-a392-2a49520419d8.avro']\n"
     ]
    },
    {
     "data": {
      "text/html": [
       "<div>\n",
       "<style scoped>\n",
       "    .dataframe tbody tr th:only-of-type {\n",
       "        vertical-align: middle;\n",
       "    }\n",
       "\n",
       "    .dataframe tbody tr th {\n",
       "        vertical-align: top;\n",
       "    }\n",
       "\n",
       "    .dataframe thead th {\n",
       "        text-align: right;\n",
       "    }\n",
       "</style>\n",
       "<table border=\"1\" class=\"dataframe\">\n",
       "  <thead>\n",
       "    <tr style=\"text-align: right;\">\n",
       "      <th></th>\n",
       "      <th>status</th>\n",
       "      <th>snapshot_id</th>\n",
       "      <th>data_file</th>\n",
       "    </tr>\n",
       "  </thead>\n",
       "  <tbody>\n",
       "    <tr>\n",
       "      <th>0</th>\n",
       "      <td>1</td>\n",
       "      <td>3345030398619684425</td>\n",
       "      <td>(file:/home/hive/warehouse/transformed.db/iceberg_demo/data/00000-778-dd77f2b0-d6d9-4db5-8629-f938ee4f64f4-00001.parquet, PARQUET, (), 318, 37355, 67108864, [(1, 1943), (2, 781), (3, 281), (4, 336), (5, 953), (6, 1151), (7, 99), (8, 6408), (9, 5494), (10, 5954), (11, 5421), (12, 4952)], [(1, 318), (2, 318), (3, 318), (4, 318), (5, 318), (6, 318), (7, 318), (8, 318), (9, 318), (10, 318), (11, 318), (12, 318)], [(1, 0), (2, 0), (3, 0), (4, 0), (5, 0), (6, 0), (7, 0), (8, 0), (9, 0), (10, 0), (11, 0), (12, 0)], [], [(1, bytearray(b'\\x00\\xa7I\\xd4P\\xa8\\x05\\x00')), (2, bytearray(b'Afghanistan')), (3, bytearray(b'\\x01\\x00\\x00\\x00')), (4, bytearray(b'\\x01\\x00\\x00\\x00')), (5, bytearray(b'y')), (6, bytearray(b'\\x00\\xf5')), (7, bytearray(b'fa\\x82\\xc7\\xad\\xe1\\x05\\x00')), (8, bytearray(b'01b22eef8f26ec48')), (9, bytearray(b'00c3dd5bacb189ae')), (10, bytearray(b'00572e1c606c9646')), (11, bytearray(b'01a3319b69a50fb5')), (12, bytearray(b'00c3dd5bacb189ae'))], [(1, bytearray(b'@\\x89\\xeb\\xd4\\\\\\xe1\\x05\\x00')), (2, bytearray(b'Yemen')), (3, bytearray(b'\\n\\x00\\x00\\x00')), (4, bytearray(b'\\x14\\x00\\x00\\x00')), (5, bytearray(b'&amp;\\xf1')), (6, bytearray(b'\\x02\\xd98')), (7, bytearray(b'fa\\x82\\xc7\\xad\\xe1\\x05\\x00')), (8, bytearray(b'fe8e38c3208c098d')), (9, bytearray(b'fff740e390c35ca2')), (10, bytearray(b'fff740e390c35ca2')), (11, bytearray(b'fff740e390c35ca2')), (12, bytearray(b'fff740e390c35ca2'))], None, [4], 0)</td>\n",
       "    </tr>\n",
       "    <tr>\n",
       "      <th>1</th>\n",
       "      <td>1</td>\n",
       "      <td>3345030398619684425</td>\n",
       "      <td>(file:/home/hive/warehouse/transformed.db/iceberg_demo/data/00001-779-eb3b6e8b-516b-42d6-997a-e6c5b4c78c38-00001.parquet, PARQUET, (), 319, 36942, 67108864, [(1, 1976), (2, 867), (3, 281), (4, 336), (5, 947), (6, 1151), (7, 113), (8, 6437), (9, 5170), (10, 6086), (11, 5241), (12, 4753)], [(1, 319), (2, 319), (3, 319), (4, 319), (5, 319), (6, 319), (7, 319), (8, 319), (9, 319), (10, 319), (11, 319), (12, 319)], [(1, 0), (2, 0), (3, 0), (4, 0), (5, 0), (6, 0), (7, 0), (8, 0), (9, 0), (10, 0), (11, 0), (12, 0)], [], [(1, bytearray(b'\\x80A\\xe0UU\\xa8\\x05\\x00')), (2, bytearray(b'Afghanistan')), (3, bytearray(b'\\x01\\x00\\x00\\x00')), (4, bytearray(b'\\x01\\x00\\x00\\x00')), (5, bytearray(b'f')), (6, bytearray(b'\\x01J')), (7, bytearray(b'fa\\x82\\xc7\\xad\\xe1\\x05\\x00')), (8, bytearray(b'00f1e52c2a9bbe52')), (9, bytearray(b'0016865a5a7fc171')), (10, bytearray(b'00c3dd5bacb189ae')), (11, bytearray(b'0016865a5a7fc171')), (12, bytearray(b'01e0f5fbe130458f'))], [(1, bytearray(b'\\xc0\\xae\\xce\\xc0\\xc9\\xe1\\x05\\x00')), (2, bytearray(b'Zambia')), (3, bytearray(b'\\n\\x00\\x00\\x00')), (4, bytearray(b'\\x14\\x00\\x00\\x00')), (5, bytearray(b'N ')), (6, bytearray(b'\\x02\\xbfr')), (7, bytearray(b'\\xd1\\x82E\\xeb\\xc3\\xe1\\x05\\x00')), (8, bytearray(b'ff4daebb517695dc')), (9, bytearray(b'fff740e390c35ca2')), (10, bytearray(b'fff740e390c35ca2')), (11, bytearray(b'fff740e390c35ca2')), (12, bytearray(b'ff94ee1b1fc531bd'))], None, [4], 0)</td>\n",
       "    </tr>\n",
       "    <tr>\n",
       "      <th>2</th>\n",
       "      <td>1</td>\n",
       "      <td>3345030398619684425</td>\n",
       "      <td>(file:/home/hive/warehouse/transformed.db/iceberg_demo/data/00002-780-fa2b74af-f62a-4407-a0ce-1a650046fd04-00001.parquet, PARQUET, (), 318, 36923, 67108864, [(1, 1964), (2, 904), (3, 281), (4, 336), (5, 942), (6, 1146), (7, 99), (8, 6416), (9, 5291), (10, 5966), (11, 5232), (12, 4766)], [(1, 318), (2, 318), (3, 318), (4, 318), (5, 318), (6, 318), (7, 318), (8, 318), (9, 318), (10, 318), (11, 318), (12, 318)], [(1, 0), (2, 0), (3, 0), (4, 0), (5, 0), (6, 0), (7, 0), (8, 0), (9, 0), (10, 0), (11, 0), (12, 0)], [], [(1, bytearray(b'\\xc0\\xd2]{6\\xa8\\x05\\x00')), (2, bytearray(b'Albania')), (3, bytearray(b'\\x01\\x00\\x00\\x00')), (4, bytearray(b'\\x01\\x00\\x00\\x00')), (5, bytearray(b'o')), (6, bytearray(b'\\x00\\x89')), (7, bytearray(b'fa\\x82\\xc7\\xad\\xe1\\x05\\x00')), (8, bytearray(b'0184f6ac06497a56')), (9, bytearray(b'0016865a5a7fc171')), (10, bytearray(b'0016865a5a7fc171')), (11, bytearray(b'0016865a5a7fc171')), (12, bytearray(b'00f1797222d01d85'))], [(1, bytearray(b'\\x80\\r\\xae\\xfdW\\xe1\\x05\\x00')), (2, bytearray(b'Zimbabwe')), (3, bytearray(b'\\n\\x00\\x00\\x00')), (4, bytearray(b'\\x14\\x00\\x00\\x00')), (5, bytearray(b\"\\'\\n\")), (6, bytearray(b'\\x02\\x9c\\xc9')), (7, bytearray(b'fa\\x82\\xc7\\xad\\xe1\\x05\\x00')), (8, bytearray(b'ffe4b16b24d6a349')), (9, bytearray(b'ff791fb488352f13')), (10, bytearray(b'fcd26e8139135bc2')), (11, bytearray(b'fe1be3f3369d9ee8')), (12, bytearray(b'ff94ee1b1fc531bd'))], None, [4], 0)</td>\n",
       "    </tr>\n",
       "  </tbody>\n",
       "</table>\n",
       "</div>"
      ],
      "text/plain": [
       "   status          snapshot_id  \\\n",
       "0       1  3345030398619684425   \n",
       "1       1  3345030398619684425   \n",
       "2       1  3345030398619684425   \n",
       "\n",
       "                                                                                                                                                                                                                                                                                                                                                                                                                                                                                                                                                                                                                                                                                                                                                                                                                                                                                                                                                                                                                                                                                                                                                                                                                                                                                                                                                                                                                                                              data_file  \n",
       "0   (file:/home/hive/warehouse/transformed.db/iceberg_demo/data/00000-778-dd77f2b0-d6d9-4db5-8629-f938ee4f64f4-00001.parquet, PARQUET, (), 318, 37355, 67108864, [(1, 1943), (2, 781), (3, 281), (4, 336), (5, 953), (6, 1151), (7, 99), (8, 6408), (9, 5494), (10, 5954), (11, 5421), (12, 4952)], [(1, 318), (2, 318), (3, 318), (4, 318), (5, 318), (6, 318), (7, 318), (8, 318), (9, 318), (10, 318), (11, 318), (12, 318)], [(1, 0), (2, 0), (3, 0), (4, 0), (5, 0), (6, 0), (7, 0), (8, 0), (9, 0), (10, 0), (11, 0), (12, 0)], [], [(1, bytearray(b'\\x00\\xa7I\\xd4P\\xa8\\x05\\x00')), (2, bytearray(b'Afghanistan')), (3, bytearray(b'\\x01\\x00\\x00\\x00')), (4, bytearray(b'\\x01\\x00\\x00\\x00')), (5, bytearray(b'y')), (6, bytearray(b'\\x00\\xf5')), (7, bytearray(b'fa\\x82\\xc7\\xad\\xe1\\x05\\x00')), (8, bytearray(b'01b22eef8f26ec48')), (9, bytearray(b'00c3dd5bacb189ae')), (10, bytearray(b'00572e1c606c9646')), (11, bytearray(b'01a3319b69a50fb5')), (12, bytearray(b'00c3dd5bacb189ae'))], [(1, bytearray(b'@\\x89\\xeb\\xd4\\\\\\xe1\\x05\\x00')), (2, bytearray(b'Yemen')), (3, bytearray(b'\\n\\x00\\x00\\x00')), (4, bytearray(b'\\x14\\x00\\x00\\x00')), (5, bytearray(b'&\\xf1')), (6, bytearray(b'\\x02\\xd98')), (7, bytearray(b'fa\\x82\\xc7\\xad\\xe1\\x05\\x00')), (8, bytearray(b'fe8e38c3208c098d')), (9, bytearray(b'fff740e390c35ca2')), (10, bytearray(b'fff740e390c35ca2')), (11, bytearray(b'fff740e390c35ca2')), (12, bytearray(b'fff740e390c35ca2'))], None, [4], 0)  \n",
       "1  (file:/home/hive/warehouse/transformed.db/iceberg_demo/data/00001-779-eb3b6e8b-516b-42d6-997a-e6c5b4c78c38-00001.parquet, PARQUET, (), 319, 36942, 67108864, [(1, 1976), (2, 867), (3, 281), (4, 336), (5, 947), (6, 1151), (7, 113), (8, 6437), (9, 5170), (10, 6086), (11, 5241), (12, 4753)], [(1, 319), (2, 319), (3, 319), (4, 319), (5, 319), (6, 319), (7, 319), (8, 319), (9, 319), (10, 319), (11, 319), (12, 319)], [(1, 0), (2, 0), (3, 0), (4, 0), (5, 0), (6, 0), (7, 0), (8, 0), (9, 0), (10, 0), (11, 0), (12, 0)], [], [(1, bytearray(b'\\x80A\\xe0UU\\xa8\\x05\\x00')), (2, bytearray(b'Afghanistan')), (3, bytearray(b'\\x01\\x00\\x00\\x00')), (4, bytearray(b'\\x01\\x00\\x00\\x00')), (5, bytearray(b'f')), (6, bytearray(b'\\x01J')), (7, bytearray(b'fa\\x82\\xc7\\xad\\xe1\\x05\\x00')), (8, bytearray(b'00f1e52c2a9bbe52')), (9, bytearray(b'0016865a5a7fc171')), (10, bytearray(b'00c3dd5bacb189ae')), (11, bytearray(b'0016865a5a7fc171')), (12, bytearray(b'01e0f5fbe130458f'))], [(1, bytearray(b'\\xc0\\xae\\xce\\xc0\\xc9\\xe1\\x05\\x00')), (2, bytearray(b'Zambia')), (3, bytearray(b'\\n\\x00\\x00\\x00')), (4, bytearray(b'\\x14\\x00\\x00\\x00')), (5, bytearray(b'N ')), (6, bytearray(b'\\x02\\xbfr')), (7, bytearray(b'\\xd1\\x82E\\xeb\\xc3\\xe1\\x05\\x00')), (8, bytearray(b'ff4daebb517695dc')), (9, bytearray(b'fff740e390c35ca2')), (10, bytearray(b'fff740e390c35ca2')), (11, bytearray(b'fff740e390c35ca2')), (12, bytearray(b'ff94ee1b1fc531bd'))], None, [4], 0)  \n",
       "2     (file:/home/hive/warehouse/transformed.db/iceberg_demo/data/00002-780-fa2b74af-f62a-4407-a0ce-1a650046fd04-00001.parquet, PARQUET, (), 318, 36923, 67108864, [(1, 1964), (2, 904), (3, 281), (4, 336), (5, 942), (6, 1146), (7, 99), (8, 6416), (9, 5291), (10, 5966), (11, 5232), (12, 4766)], [(1, 318), (2, 318), (3, 318), (4, 318), (5, 318), (6, 318), (7, 318), (8, 318), (9, 318), (10, 318), (11, 318), (12, 318)], [(1, 0), (2, 0), (3, 0), (4, 0), (5, 0), (6, 0), (7, 0), (8, 0), (9, 0), (10, 0), (11, 0), (12, 0)], [], [(1, bytearray(b'\\xc0\\xd2]{6\\xa8\\x05\\x00')), (2, bytearray(b'Albania')), (3, bytearray(b'\\x01\\x00\\x00\\x00')), (4, bytearray(b'\\x01\\x00\\x00\\x00')), (5, bytearray(b'o')), (6, bytearray(b'\\x00\\x89')), (7, bytearray(b'fa\\x82\\xc7\\xad\\xe1\\x05\\x00')), (8, bytearray(b'0184f6ac06497a56')), (9, bytearray(b'0016865a5a7fc171')), (10, bytearray(b'0016865a5a7fc171')), (11, bytearray(b'0016865a5a7fc171')), (12, bytearray(b'00f1797222d01d85'))], [(1, bytearray(b'\\x80\\r\\xae\\xfdW\\xe1\\x05\\x00')), (2, bytearray(b'Zimbabwe')), (3, bytearray(b'\\n\\x00\\x00\\x00')), (4, bytearray(b'\\x14\\x00\\x00\\x00')), (5, bytearray(b\"\\'\\n\")), (6, bytearray(b'\\x02\\x9c\\xc9')), (7, bytearray(b'fa\\x82\\xc7\\xad\\xe1\\x05\\x00')), (8, bytearray(b'ffe4b16b24d6a349')), (9, bytearray(b'ff791fb488352f13')), (10, bytearray(b'fcd26e8139135bc2')), (11, bytearray(b'fe1be3f3369d9ee8')), (12, bytearray(b'ff94ee1b1fc531bd'))], None, [4], 0)  "
      ]
     },
     "metadata": {},
     "output_type": "display_data"
    }
   ],
   "source": [
    "# Read Iceberg Table and Display Metadata\n",
    "demo_iceberg_df = spark.table(f\"{catalog_name}.{database_name}.{table_name}\")\n",
    "display_metadata(demo_tbl_df=demo_iceberg_df, table_path=non_partitioned_table_path)"
   ]
  },
  {
   "cell_type": "code",
   "execution_count": null,
   "outputs": [],
   "source": [
    "# Update a record in Iceberg Table\n",
    "display(spark.sql(f\"SELECT * FROM {catalog_name}.{database_name}.{table_name} WHERE order_hash_key = '733398b50242a8734489a906a12a793f' and order_item_id = '1'\").withColumn(\"file_name\", F.input_file_name()).toPandas())\n",
    "iceberg_update_output = spark.sql(f\"\"\"\n",
    "UPDATE {catalog_name}.{database_name}.{table_name}\n",
    "SET shipping_country = 'USA'\n",
    "WHERE order_hash_key = '733398b50242a8734489a906a12a793f' and order_item_id = '1'\n",
    "\"\"\")\n",
    "spark.catalog.clearCache()\n",
    "demo_iceberg_df\n",
    "display(spark.sql(f\"SELECT * FROM {catalog_name}.{database_name}.{table_name} WHERE order_hash_key = '733398b50242a8734489a906a12a793f' and order_item_id = '1'\").withColumn(\"file_name\", F.input_file_name()).toPandas())"
   ],
   "metadata": {
    "collapsed": false,
    "pycharm": {
     "name": "#%%\n"
    }
   }
  },
  {
   "cell_type": "code",
   "execution_count": null,
   "outputs": [],
   "source": [
    "display_metadata(demo_tbl_df=demo_iceberg_df, table_path=non_partitioned_table_path)"
   ],
   "metadata": {
    "collapsed": false,
    "pycharm": {
     "name": "#%%\n"
    }
   }
  },
  {
   "cell_type": "code",
   "execution_count": null,
   "outputs": [],
   "source": [
    "# Schema Evolution - DELETE a recond\n",
    "spark.sql(f\"\"\"DELETE FROM {catalog_name}.{database_name}.{table_name} WHERE order_hash_key = '733398b50242a8734489a906a12a793f' and order_item_id = '1'\"\"\")\n",
    "display_metadata(demo_tbl_df=demo_iceberg_df, table_path=non_partitioned_table_path)"
   ],
   "metadata": {
    "collapsed": false,
    "pycharm": {
     "name": "#%%\n"
    }
   }
  },
  {
   "cell_type": "code",
   "execution_count": null,
   "outputs": [],
   "source": [
    "# Schema Evolution - ADD a Column\n",
    "display(spark.sql(f\"DESCRIBE {catalog_name}.{database_name}.{table_name}\").toPandas())\n",
    "spark.sql(f\"\"\"ALTER TABLE {catalog_name}.{database_name}.{table_name} ADD  COLUMNS (\n",
    "                shipping_city string\n",
    "                )\"\"\")\n",
    "display(spark.sql(f\"DESCRIBE {catalog_name}.{database_name}.{table_name}\").toPandas())\n",
    "display_metadata(demo_tbl_df=demo_iceberg_df, table_path=non_partitioned_table_path)"
   ],
   "metadata": {
    "collapsed": false,
    "pycharm": {
     "name": "#%%\n"
    }
   }
  },
  {
   "cell_type": "code",
   "execution_count": null,
   "outputs": [],
   "source": [
    "# Schema Evolution - Remove a Column\n",
    "display(spark.sql(f\"DESCRIBE {catalog_name}.{database_name}.{table_name}\").toPandas())\n",
    "spark.sql(f\"\"\"ALTER TABLE {catalog_name}.{database_name}.{table_name} DROP COLUMN ctrl_load_date\"\"\")\n",
    "display(spark.sql(f\"DESCRIBE {catalog_name}.{database_name}.{table_name}\").toPandas())\n",
    "display_metadata(demo_tbl_df=demo_iceberg_df, table_path=non_partitioned_table_path)"
   ],
   "metadata": {
    "collapsed": false,
    "pycharm": {
     "name": "#%%\n"
    }
   }
  },
  {
   "cell_type": "code",
   "execution_count": null,
   "outputs": [],
   "source": [
    "# Schema Evolution - Rename a Column\n",
    "display(spark.sql(f\"DESCRIBE {catalog_name}.{database_name}.{table_name}\").toPandas())\n",
    "spark.sql(f\"\"\"ALTER TABLE {catalog_name}.{database_name}.{table_name} RENAME COLUMN subtotal TO sub_total\"\"\")\n",
    "display(spark.sql(f\"DESCRIBE {catalog_name}.{database_name}.{table_name}\").toPandas())\n",
    "display_metadata(demo_tbl_df=demo_iceberg_df, table_path=non_partitioned_table_path)"
   ],
   "metadata": {
    "collapsed": false,
    "pycharm": {
     "name": "#%%\n"
    }
   }
  },
  {
   "cell_type": "code",
   "execution_count": null,
   "outputs": [],
   "source": [
    "spark.catalog.clearCache()\n",
    "demo_iceberg_final = spark.table(f\"{catalog_name}.{database_name}.{table_name}\")\n",
    "display(demo_iceberg_final.limit(5).toPandas())"
   ],
   "metadata": {
    "collapsed": false,
    "pycharm": {
     "name": "#%%\n"
    }
   }
  },
  {
   "cell_type": "code",
   "execution_count": null,
   "outputs": [],
   "source": [
    "# Create Partitioned Iceberg Table\n",
    "\n",
    "fact_sales_df = spark.read.format(\"parquet\").load(\"/home/datalake/transformed.fact_sales.parquet/\")\n",
    "fact_sales_df.count()\n",
    "spark.sql(f\"DROP TABLE IF EXISTS {catalog_name}.{database_name}.{table_name_partitioned}\")\n",
    "os.system(f\"rm -rf {partitioned_table_path}\")\n",
    "\n",
    "fact_sales_df.sortWithinPartitions(\"ctrl_load_date\").writeTo(f\"{catalog_name}.{database_name}.{table_name_partitioned}\").partitionedBy(F.days(\"ctrl_load_date\")).createOrReplace()\n",
    "print(\"Table created.\")\n",
    "display_metadata(demo_tbl_df=demo_iceberg_df, table_path=partitioned_table_path)"
   ],
   "metadata": {
    "collapsed": false,
    "pycharm": {
     "name": "#%%\n"
    }
   }
  },
  {
   "cell_type": "code",
   "execution_count": null,
   "outputs": [],
   "source": [
    "display(spark.sql(f\"SELECT * FROM {catalog_name}.{database_name}.{table_name_partitioned} LIMIT 10\").show())"
   ],
   "metadata": {
    "collapsed": false,
    "pycharm": {
     "name": "#%%\n"
    }
   }
  }
 ],
 "metadata": {
  "kernelspec": {
   "display_name": "Python 3 (ipykernel)",
   "language": "python",
   "name": "python3"
  },
  "language_info": {
   "codemirror_mode": {
    "name": "ipython",
    "version": 3
   },
   "file_extension": ".py",
   "mimetype": "text/x-python",
   "name": "python",
   "nbconvert_exporter": "python",
   "pygments_lexer": "ipython3",
   "version": "3.9.14"
  }
 },
 "nbformat": 4,
 "nbformat_minor": 1
}